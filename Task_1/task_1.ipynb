{
 "cells": [
  {
   "cell_type": "code",
   "execution_count": 2,
   "id": "8d5a9fc0",
   "metadata": {},
   "outputs": [],
   "source": [
    "import pandas as pd\n",
    "import numpy as np\n",
    "import matplotlib.pyplot as plt\n",
    "import seaborn as sns\n",
    "import json"
   ]
  },
  {
   "cell_type": "code",
   "execution_count": 3,
   "id": "c191e55b",
   "metadata": {},
   "outputs": [],
   "source": [
    "# Display rows in full width\n",
    "pd.set_option('display.width', None)\n",
    "pd.set_option('display.max_colwidth', None)\n",
    "\n",
    "# Set maximum columns displayed in DataFrame to 200\n",
    "pd.set_option('display.max_columns', 200)"
   ]
  },
  {
   "cell_type": "code",
   "execution_count": 17,
   "id": "4dface3d",
   "metadata": {},
   "outputs": [],
   "source": [
    "df = pd.read_csv('D:\\\\Programming\\\\Motorq\\\\ds_assement_2026_summer_intern\\\\Test_Case_dataCleaning.csv')"
   ]
  },
  {
   "cell_type": "code",
   "execution_count": 7,
   "id": "601462f3",
   "metadata": {},
   "outputs": [
    {
     "data": {
      "text/plain": [
       "(781942, 1)"
      ]
     },
     "execution_count": 7,
     "metadata": {},
     "output_type": "execute_result"
    }
   ],
   "source": [
    "df.shape"
   ]
  },
  {
   "cell_type": "code",
   "execution_count": 6,
   "id": "d92fb9dc",
   "metadata": {},
   "outputs": [
    {
     "data": {
      "text/html": [
       "<div>\n",
       "<style scoped>\n",
       "    .dataframe tbody tr th:only-of-type {\n",
       "        vertical-align: middle;\n",
       "    }\n",
       "\n",
       "    .dataframe tbody tr th {\n",
       "        vertical-align: top;\n",
       "    }\n",
       "\n",
       "    .dataframe thead th {\n",
       "        text-align: right;\n",
       "    }\n",
       "</style>\n",
       "<table border=\"1\" class=\"dataframe\">\n",
       "  <thead>\n",
       "    <tr style=\"text-align: right;\">\n",
       "      <th></th>\n",
       "      <th>BODY_CLEANED</th>\n",
       "    </tr>\n",
       "  </thead>\n",
       "  <tbody>\n",
       "    <tr>\n",
       "      <th>0</th>\n",
       "      <td>{\\n  \"meta\": {\\n    \"messageType\": \"VehicleData\",\\n    \"pollerFetchTime\": 1751725939315,\\n    \"version\": \"v2\"\\n  },\\n  \"partitionKey\": \"df979dc9-5cc6-470f-a105-d3108fd03c19\",\\n  \"timestamp\": \"20250705143219.297\",\\n  \"transactionId\": \"df979dc9-5cc6-470f-a105-d3108fd03c19\",\\n  \"vinList\": [\\n    {\\n      \"dischargeWarning\": {\\n        \"hazardStatus\": 0,\\n        \"tailLampStatus\": 0\\n      },\\n      \"evStatusData\": [\\n        {\\n          \"attribute\": \"ign3Status\",\\n          \"dataType\": 1,\\n          \"value\": \"0\"\\n        }\\n      ],\\n      \"headLampStatus\": {\\n        \"headLamp\": 0,\\n        \"leftHighLamp\": 0,\\n        \"leftLowLamp\": 0,\\n        \"rightHighLamp\": 0,\\n        \"rightLowLamp\": 0\\n      },\\n      \"locationTimestamp\": {\\n        \"offSet\": -7,\\n        \"time\": \"20250705143213.000\"\\n      },\\n      \"statusData\": [\\n        {\\n          \"attribute\": \"odometer\",\\n          \"dataType\": 2,\\n          \"unit\": 1,\\n          \"value\": \"28082.6\"\\n        },\\n        {\\n          \"attribute\": \"gasLevel\",\\n          \"dataType\": 1,\\n          \"unit\": 6,\\n          \"value\": \"24\"\\n        },\\n        {\\n          \"attribute\": \"parkingPosition\",\\n          \"dataType\": 1,\\n          \"value\": \"1\"\\n        },\\n        {\\n          \"attribute\": \"engineOilStatus\",\\n          \"dataType\": 1,\\n          \"value\": \"0\"\\n        },\\n        {\\n          \"attribute\": \"airTemp\",\\n          \"dataType\": 1,\\n          \"unit\": 4,\\n          \"value\": \"0\"\\n        },\\n        {\\n          \"attribute\": \"breakOilStatus\",\\n          \"dataType\": 1,\\n          \"value\": \"0\"\\n        },\\n        {\\n          \"attribute\": \"ignStatus\",\\n          \"dataType\": 1,\\n          \"value\": \"1\"\\n        },\\n        {\\n          \"attribute\": \"accModeStatus\",\\n          \"dataType\": 1,\\n          \"value\": \"1\"\\n        },\\n        {\\n          \"attribute\": \"batStatus\",\\n          \"dataType\": 1,\\n          \"unit\": 6,\\n          \"value\": \"92\"\\n        },\\n        {\\n          \"attribute\": \"washerFluidStatus\",\\n          \"dataType\": 1,\\n          \"value\": \"1\"\\n        },\\n        {\\n          \"attribute\": \"traveldirection\",\\n          \"dataType\": 2,\\n          \"unit\": 17,\\n          \"value\": \"268\"\\n        },\\n        {\\n          \"attribute\": \"speed\",\\n          \"dataType\": 1,\\n          \"unit\": 15,\\n          \"value\": \"0\"\\n        }\\n      ],\\n      \"statusTimestamp\": {\\n        \"offSet\": -7,\\n        \"time\": \"20250705143210.000\"\\n      },\\n      \"stopLampStatus\": {\\n        \"leftLamp\": 0,\\n        \"rightLamp\": 0,\\n        \"stopLamp\": 0\\n      },\\n      \"tid\": \"d79a57d4-59ac-11f0-9e9b-2b40fc6391d9\",\\n      \"tirePressureWarning\": {\\n        \"frontLeft\": 0,\\n        \"frontRight\": 0,\\n        \"overall\": 0,\\n        \"rearLeft\": 0,\\n        \"rearRight\": 0\\n      },\\n      \"turnSignalStatus\": {\\n        \"leftFrontLamp\": 0,\\n        \"leftRearLamp\": 0,\\n        \"rightFrontLamp\": 0,\\n        \"rightRearLamp\": 0,\\n        \"turnSignalLamp\": 0\\n      },\\n      \"vin\": \"MASKEDVIN003\"\\n    }\\n  ]\\n}</td>\n",
       "    </tr>\n",
       "    <tr>\n",
       "      <th>1</th>\n",
       "      <td>{\\n  \"meta\": {\\n    \"messageType\": \"VehicleData\",\\n    \"pollerFetchTime\": 1751994040672,\\n    \"version\": \"v2\"\\n  },\\n  \"partitionKey\": \"4d70d01f-2c72-4ca1-8e6e-2df439ff257e\",\\n  \"timestamp\": \"20250708170040.654\",\\n  \"transactionId\": \"4d70d01f-2c72-4ca1-8e6e-2df439ff257e\",\\n  \"vinList\": [\\n    {\\n      \"dischargeWarning\": {\\n        \"hazardStatus\": 0,\\n        \"tailLampStatus\": 0\\n      },\\n      \"evStatusData\": [\\n        {\\n          \"attribute\": \"ign3Status\",\\n          \"dataType\": 1,\\n          \"value\": \"0\"\\n        }\\n      ],\\n      \"headLampStatus\": {\\n        \"headLamp\": 0,\\n        \"leftHighLamp\": 0,\\n        \"leftLowLamp\": 0,\\n        \"rightHighLamp\": 0,\\n        \"rightLowLamp\": 0\\n      },\\n      \"locationTimestamp\": {\\n        \"offSet\": -7,\\n        \"time\": \"20250708165943.000\"\\n      },\\n      \"statusData\": [\\n        {\\n          \"attribute\": \"odometer\",\\n          \"dataType\": 2,\\n          \"unit\": 1,\\n          \"value\": \"28605.6\"\\n        },\\n        {\\n          \"attribute\": \"gasLevel\",\\n          \"dataType\": 1,\\n          \"unit\": 6,\\n          \"value\": \"100\"\\n        },\\n        {\\n          \"attribute\": \"parkingPosition\",\\n          \"dataType\": 1,\\n          \"value\": \"0\"\\n        },\\n        {\\n          \"attribute\": \"engineOilStatus\",\\n          \"dataType\": 1,\\n          \"value\": \"0\"\\n        },\\n        {\\n          \"attribute\": \"airTemp\",\\n          \"dataType\": 1,\\n          \"unit\": 4,\\n          \"value\": \"LO\"\\n        },\\n        {\\n          \"attribute\": \"breakOilStatus\",\\n          \"dataType\": 1,\\n          \"value\": \"0\"\\n        },\\n        {\\n          \"attribute\": \"ignStatus\",\\n          \"dataType\": 1,\\n          \"value\": \"1\"\\n        },\\n        {\\n          \"attribute\": \"accModeStatus\",\\n          \"dataType\": 1,\\n          \"value\": \"1\"\\n        },\\n        {\\n          \"attribute\": \"batStatus\",\\n          \"dataType\": 1,\\n          \"unit\": 6,\\n          \"value\": \"92\"\\n        },\\n        {\\n          \"attribute\": \"washerFluidStatus\",\\n          \"dataType\": 1,\\n          \"value\": \"1\"\\n        },\\n        {\\n          \"attribute\": \"traveldirection\",\\n          \"dataType\": 2,\\n          \"unit\": 17,\\n          \"value\": \"85\"\\n        },\\n        {\\n          \"attribute\": \"speed\",\\n          \"dataType\": 1,\\n          \"unit\": 15,\\n          \"value\": \"28\"\\n        }\\n      ],\\n      \"statusTimestamp\": {\\n        \"offSet\": -7,\\n        \"time\": \"20250708170037.000\"\\n      },\\n      \"stopLampStatus\": {\\n        \"leftLamp\": 0,\\n        \"rightLamp\": 0,\\n        \"stopLamp\": 0\\n      },\\n      \"tid\": \"10206ef6-5c1d-11f0-aef6-f8cf27102e4c\",\\n      \"tirePressureWarning\": {\\n        \"frontLeft\": 0,\\n        \"frontRight\": 0,\\n        \"overall\": 0,\\n        \"rearLeft\": 0,\\n        \"rearRight\": 0\\n      },\\n      \"turnSignalStatus\": {\\n        \"leftFrontLamp\": 0,\\n        \"leftRearLamp\": 0,\\n        \"rightFrontLamp\": 0,\\n        \"rightRearLamp\": 0,\\n        \"turnSignalLamp\": 0\\n      },\\n      \"vin\": \"MASKEDVIN003\"\\n    }\\n  ]\\n}</td>\n",
       "    </tr>\n",
       "    <tr>\n",
       "      <th>2</th>\n",
       "      <td>{\\n  \"meta\": {\\n    \"messageType\": \"VehicleData\",\\n    \"pollerFetchTime\": 1751825658365,\\n    \"version\": \"v2\"\\n  },\\n  \"partitionKey\": \"58244a3d-8e52-435c-b6b2-11d39da66fdb\",\\n  \"timestamp\": \"20250706181418.349\",\\n  \"transactionId\": \"58244a3d-8e52-435c-b6b2-11d39da66fdb\",\\n  \"vinList\": [\\n    {\\n      \"dischargeWarning\": {\\n        \"hazardStatus\": 0,\\n        \"tailLampStatus\": 0\\n      },\\n      \"evStatusData\": [\\n        {\\n          \"attribute\": \"ign3Status\",\\n          \"dataType\": 1,\\n          \"value\": \"0\"\\n        }\\n      ],\\n      \"headLampStatus\": {\\n        \"headLamp\": 0,\\n        \"leftHighLamp\": 0,\\n        \"leftLowLamp\": 0,\\n        \"rightHighLamp\": 0,\\n        \"rightLowLamp\": 0\\n      },\\n      \"locationTimestamp\": {\\n        \"offSet\": -7,\\n        \"time\": \"20250706181351.000\"\\n      },\\n      \"statusData\": [\\n        {\\n          \"attribute\": \"odometer\",\\n          \"dataType\": 2,\\n          \"unit\": 1,\\n          \"value\": \"28443.6\"\\n        },\\n        {\\n          \"attribute\": \"gasLevel\",\\n          \"dataType\": 1,\\n          \"unit\": 6,\\n          \"value\": \"37\"\\n        },\\n        {\\n          \"attribute\": \"parkingPosition\",\\n          \"dataType\": 1,\\n          \"value\": \"1\"\\n        },\\n        {\\n          \"attribute\": \"engineOilStatus\",\\n          \"dataType\": 1,\\n          \"value\": \"0\"\\n        },\\n        {\\n          \"attribute\": \"airTemp\",\\n          \"dataType\": 1,\\n          \"unit\": 4,\\n          \"value\": \"0\"\\n        },\\n        {\\n          \"attribute\": \"breakOilStatus\",\\n          \"dataType\": 1,\\n          \"value\": \"0\"\\n        },\\n        {\\n          \"attribute\": \"ignStatus\",\\n          \"dataType\": 1,\\n          \"value\": \"0\"\\n        },\\n        {\\n          \"attribute\": \"accModeStatus\",\\n          \"dataType\": 1,\\n          \"value\": \"0\"\\n        },\\n        {\\n          \"attribute\": \"batStatus\",\\n          \"dataType\": 1,\\n          \"unit\": 6,\\n          \"value\": \"87\"\\n        },\\n        {\\n          \"attribute\": \"washerFluidStatus\",\\n          \"dataType\": 1,\\n          \"value\": \"1\"\\n        },\\n        {\\n          \"attribute\": \"traveldirection\",\\n          \"dataType\": 2,\\n          \"unit\": 17,\\n          \"value\": \"21\"\\n        },\\n        {\\n          \"attribute\": \"speed\",\\n          \"dataType\": 1,\\n          \"unit\": 15,\\n          \"value\": \"0\"\\n        }\\n      ],\\n      \"statusTimestamp\": {\\n        \"offSet\": -7,\\n        \"time\": \"20250706181414.000\"\\n      },\\n      \"stopLampStatus\": {\\n        \"leftLamp\": 0,\\n        \"rightLamp\": 0,\\n        \"stopLamp\": 0\\n      },\\n      \"tid\": \"0417c3e0-5a95-11f0-83e0-8cdc0890f168\",\\n      \"tirePressureWarning\": {\\n        \"frontLeft\": 0,\\n        \"frontRight\": 0,\\n        \"overall\": 0,\\n        \"rearLeft\": 0,\\n        \"rearRight\": 0\\n      },\\n      \"turnSignalStatus\": {\\n        \"leftFrontLamp\": 0,\\n        \"leftRearLamp\": 0,\\n        \"rightFrontLamp\": 0,\\n        \"rightRearLamp\": 0,\\n        \"turnSignalLamp\": 0\\n      },\\n      \"vin\": \"MASKEDVIN003\"\\n    }\\n  ]\\n}</td>\n",
       "    </tr>\n",
       "    <tr>\n",
       "      <th>3</th>\n",
       "      <td>{\\n  \"meta\": {\\n    \"messageType\": \"VehicleData\",\\n    \"pollerFetchTime\": 1752007396151,\\n    \"version\": \"v2\"\\n  },\\n  \"partitionKey\": \"d9bff54f-133e-4994-8c71-c3a37c310095\",\\n  \"timestamp\": \"20250708204316.134\",\\n  \"transactionId\": \"d9bff54f-133e-4994-8c71-c3a37c310095\",\\n  \"vinList\": [\\n    {\\n      \"dischargeWarning\": {\\n        \"hazardStatus\": 0,\\n        \"tailLampStatus\": 0\\n      },\\n      \"evStatusData\": [\\n        {\\n          \"attribute\": \"ign3Status\",\\n          \"dataType\": 1,\\n          \"value\": \"0\"\\n        }\\n      ],\\n      \"headLampStatus\": {\\n        \"headLamp\": 0,\\n        \"leftHighLamp\": 0,\\n        \"leftLowLamp\": 0,\\n        \"rightHighLamp\": 0,\\n        \"rightLowLamp\": 0\\n      },\\n      \"locationTimestamp\": {\\n        \"offSet\": -7,\\n        \"time\": \"20250708204302.000\"\\n      },\\n      \"statusData\": [\\n        {\\n          \"attribute\": \"odometer\",\\n          \"dataType\": 2,\\n          \"unit\": 1,\\n          \"value\": \"28902.2\"\\n        },\\n        {\\n          \"attribute\": \"gasLevel\",\\n          \"dataType\": 1,\\n          \"unit\": 6,\\n          \"value\": \"72\"\\n        },\\n        {\\n          \"attribute\": \"parkingPosition\",\\n          \"dataType\": 1,\\n          \"value\": \"0\"\\n        },\\n        {\\n          \"attribute\": \"engineOilStatus\",\\n          \"dataType\": 1,\\n          \"value\": \"0\"\\n        },\\n        {\\n          \"attribute\": \"airTemp\",\\n          \"dataType\": 1,\\n          \"unit\": 4,\\n          \"value\": \"LO\"\\n        },\\n        {\\n          \"attribute\": \"breakOilStatus\",\\n          \"dataType\": 1,\\n          \"value\": \"0\"\\n        },\\n        {\\n          \"attribute\": \"ignStatus\",\\n          \"dataType\": 1,\\n          \"value\": \"1\"\\n        },\\n        {\\n          \"attribute\": \"accModeStatus\",\\n          \"dataType\": 1,\\n          \"value\": \"1\"\\n        },\\n        {\\n          \"attribute\": \"batStatus\",\\n          \"dataType\": 1,\\n          \"unit\": 6,\\n          \"value\": \"86\"\\n        },\\n        {\\n          \"attribute\": \"washerFluidStatus\",\\n          \"dataType\": 1,\\n          \"value\": \"1\"\\n        },\\n        {\\n          \"attribute\": \"traveldirection\",\\n          \"dataType\": 2,\\n          \"unit\": 17,\\n          \"value\": \"28\"\\n        },\\n        {\\n          \"attribute\": \"speed\",\\n          \"dataType\": 1,\\n          \"unit\": 15,\\n          \"value\": \"55\"\\n        }\\n      ],\\n      \"statusTimestamp\": {\\n        \"offSet\": -7,\\n        \"time\": \"20250708204314.000\"\\n      },\\n      \"stopLampStatus\": {\\n        \"leftLamp\": 0,\\n        \"rightLamp\": 0,\\n        \"stopLamp\": 0\\n      },\\n      \"tid\": \"2964b2ba-5c3c-11f0-b2ba-f271010e7f00\",\\n      \"tirePressureWarning\": {\\n        \"frontLeft\": 0,\\n        \"frontRight\": 0,\\n        \"overall\": 0,\\n        \"rearLeft\": 0,\\n        \"rearRight\": 0\\n      },\\n      \"turnSignalStatus\": {\\n        \"leftFrontLamp\": 0,\\n        \"leftRearLamp\": 0,\\n        \"rightFrontLamp\": 0,\\n        \"rightRearLamp\": 0,\\n        \"turnSignalLamp\": 0\\n      },\\n      \"vin\": \"MASKEDVIN003\"\\n    }\\n  ]\\n}</td>\n",
       "    </tr>\n",
       "    <tr>\n",
       "      <th>4</th>\n",
       "      <td>{\\n  \"meta\": {\\n    \"messageType\": \"VehicleData\",\\n    \"pollerFetchTime\": 1751747010652,\\n    \"version\": \"v2\"\\n  },\\n  \"partitionKey\": \"03648c59-a7d9-4056-b3a5-50083bb7c15d\",\\n  \"timestamp\": \"20250705202330.633\",\\n  \"transactionId\": \"03648c59-a7d9-4056-b3a5-50083bb7c15d\",\\n  \"vinList\": [\\n    {\\n      \"dischargeWarning\": {\\n        \"hazardStatus\": 0,\\n        \"tailLampStatus\": 0\\n      },\\n      \"evStatusData\": [\\n        {\\n          \"attribute\": \"ign3Status\",\\n          \"dataType\": 1,\\n          \"value\": \"0\"\\n        }\\n      ],\\n      \"headLampStatus\": {\\n        \"headLamp\": 0,\\n        \"leftHighLamp\": 0,\\n        \"leftLowLamp\": 0,\\n        \"rightHighLamp\": 0,\\n        \"rightLowLamp\": 0\\n      },\\n      \"locationTimestamp\": {\\n        \"offSet\": -7,\\n        \"time\": \"20250705202202.000\"\\n      },\\n      \"statusData\": [\\n        {\\n          \"attribute\": \"odometer\",\\n          \"dataType\": 2,\\n          \"unit\": 1,\\n          \"value\": \"28275.5\"\\n        },\\n        {\\n          \"attribute\": \"gasLevel\",\\n          \"dataType\": 1,\\n          \"unit\": 6,\\n          \"value\": \"63\"\\n        },\\n        {\\n          \"attribute\": \"parkingPosition\",\\n          \"dataType\": 1,\\n          \"value\": \"0\"\\n        },\\n        {\\n          \"attribute\": \"engineOilStatus\",\\n          \"dataType\": 1,\\n          \"value\": \"0\"\\n        },\\n        {\\n          \"attribute\": \"airTemp\",\\n          \"dataType\": 1,\\n          \"unit\": 4,\\n          \"value\": \"73\"\\n        },\\n        {\\n          \"attribute\": \"breakOilStatus\",\\n          \"dataType\": 1,\\n          \"value\": \"0\"\\n        },\\n        {\\n          \"attribute\": \"ignStatus\",\\n          \"dataType\": 1,\\n          \"value\": \"1\"\\n        },\\n        {\\n          \"attribute\": \"accModeStatus\",\\n          \"dataType\": 1,\\n          \"value\": \"1\"\\n        },\\n        {\\n          \"attribute\": \"batStatus\",\\n          \"dataType\": 1,\\n          \"unit\": 6,\\n          \"value\": \"93\"\\n        },\\n        {\\n          \"attribute\": \"washerFluidStatus\",\\n          \"dataType\": 1,\\n          \"value\": \"0\"\\n        },\\n        {\\n          \"attribute\": \"traveldirection\",\\n          \"dataType\": 2,\\n          \"unit\": 17,\\n          \"value\": \"149\"\\n        },\\n        {\\n          \"attribute\": \"speed\",\\n          \"dataType\": 1,\\n          \"unit\": 15,\\n          \"value\": \"0\"\\n        }\\n      ],\\n      \"statusTimestamp\": {\\n        \"offSet\": -7,\\n        \"time\": \"20250705202326.000\"\\n      },\\n      \"stopLampStatus\": {\\n        \"leftLamp\": 0,\\n        \"rightLamp\": 0,\\n        \"stopLamp\": 0\\n      },\\n      \"tid\": \"e6821043-59dd-11f0-904f-4d4afec1fe10\",\\n      \"tirePressureWarning\": {\\n        \"frontLeft\": 0,\\n        \"frontRight\": 0,\\n        \"overall\": 0,\\n        \"rearLeft\": 0,\\n        \"rearRight\": 0\\n      },\\n      \"turnSignalStatus\": {\\n        \"leftFrontLamp\": 0,\\n        \"leftRearLamp\": 0,\\n        \"rightFrontLamp\": 0,\\n        \"rightRearLamp\": 0,\\n        \"turnSignalLamp\": 0\\n      },\\n      \"vin\": \"MASKEDVIN003\"\\n    }\\n  ]\\n}</td>\n",
       "    </tr>\n",
       "  </tbody>\n",
       "</table>\n",
       "</div>"
      ],
      "text/plain": [
       "                                                                                                                                                                                                                                                                                                                                                                                                                                                                                                                                                                                                                                                                                                                                                                                                                                                                                                                                                                                                                                                                                                                                                                                                                                                                                                                                                                                                                                                                                                                                                                                                                                                                                                                                                                                                                                                                                                                                                                                                                                                                                                                                                                                                                                                                                                                                                                                                                                                                                                                                                                                                                                                                                                                                                                                                                                                                                                                                                                                                                                                                                                   BODY_CLEANED\n",
       "0    {\\n  \"meta\": {\\n    \"messageType\": \"VehicleData\",\\n    \"pollerFetchTime\": 1751725939315,\\n    \"version\": \"v2\"\\n  },\\n  \"partitionKey\": \"df979dc9-5cc6-470f-a105-d3108fd03c19\",\\n  \"timestamp\": \"20250705143219.297\",\\n  \"transactionId\": \"df979dc9-5cc6-470f-a105-d3108fd03c19\",\\n  \"vinList\": [\\n    {\\n      \"dischargeWarning\": {\\n        \"hazardStatus\": 0,\\n        \"tailLampStatus\": 0\\n      },\\n      \"evStatusData\": [\\n        {\\n          \"attribute\": \"ign3Status\",\\n          \"dataType\": 1,\\n          \"value\": \"0\"\\n        }\\n      ],\\n      \"headLampStatus\": {\\n        \"headLamp\": 0,\\n        \"leftHighLamp\": 0,\\n        \"leftLowLamp\": 0,\\n        \"rightHighLamp\": 0,\\n        \"rightLowLamp\": 0\\n      },\\n      \"locationTimestamp\": {\\n        \"offSet\": -7,\\n        \"time\": \"20250705143213.000\"\\n      },\\n      \"statusData\": [\\n        {\\n          \"attribute\": \"odometer\",\\n          \"dataType\": 2,\\n          \"unit\": 1,\\n          \"value\": \"28082.6\"\\n        },\\n        {\\n          \"attribute\": \"gasLevel\",\\n          \"dataType\": 1,\\n          \"unit\": 6,\\n          \"value\": \"24\"\\n        },\\n        {\\n          \"attribute\": \"parkingPosition\",\\n          \"dataType\": 1,\\n          \"value\": \"1\"\\n        },\\n        {\\n          \"attribute\": \"engineOilStatus\",\\n          \"dataType\": 1,\\n          \"value\": \"0\"\\n        },\\n        {\\n          \"attribute\": \"airTemp\",\\n          \"dataType\": 1,\\n          \"unit\": 4,\\n          \"value\": \"0\"\\n        },\\n        {\\n          \"attribute\": \"breakOilStatus\",\\n          \"dataType\": 1,\\n          \"value\": \"0\"\\n        },\\n        {\\n          \"attribute\": \"ignStatus\",\\n          \"dataType\": 1,\\n          \"value\": \"1\"\\n        },\\n        {\\n          \"attribute\": \"accModeStatus\",\\n          \"dataType\": 1,\\n          \"value\": \"1\"\\n        },\\n        {\\n          \"attribute\": \"batStatus\",\\n          \"dataType\": 1,\\n          \"unit\": 6,\\n          \"value\": \"92\"\\n        },\\n        {\\n          \"attribute\": \"washerFluidStatus\",\\n          \"dataType\": 1,\\n          \"value\": \"1\"\\n        },\\n        {\\n          \"attribute\": \"traveldirection\",\\n          \"dataType\": 2,\\n          \"unit\": 17,\\n          \"value\": \"268\"\\n        },\\n        {\\n          \"attribute\": \"speed\",\\n          \"dataType\": 1,\\n          \"unit\": 15,\\n          \"value\": \"0\"\\n        }\\n      ],\\n      \"statusTimestamp\": {\\n        \"offSet\": -7,\\n        \"time\": \"20250705143210.000\"\\n      },\\n      \"stopLampStatus\": {\\n        \"leftLamp\": 0,\\n        \"rightLamp\": 0,\\n        \"stopLamp\": 0\\n      },\\n      \"tid\": \"d79a57d4-59ac-11f0-9e9b-2b40fc6391d9\",\\n      \"tirePressureWarning\": {\\n        \"frontLeft\": 0,\\n        \"frontRight\": 0,\\n        \"overall\": 0,\\n        \"rearLeft\": 0,\\n        \"rearRight\": 0\\n      },\\n      \"turnSignalStatus\": {\\n        \"leftFrontLamp\": 0,\\n        \"leftRearLamp\": 0,\\n        \"rightFrontLamp\": 0,\\n        \"rightRearLamp\": 0,\\n        \"turnSignalLamp\": 0\\n      },\\n      \"vin\": \"MASKEDVIN003\"\\n    }\\n  ]\\n}\n",
       "1  {\\n  \"meta\": {\\n    \"messageType\": \"VehicleData\",\\n    \"pollerFetchTime\": 1751994040672,\\n    \"version\": \"v2\"\\n  },\\n  \"partitionKey\": \"4d70d01f-2c72-4ca1-8e6e-2df439ff257e\",\\n  \"timestamp\": \"20250708170040.654\",\\n  \"transactionId\": \"4d70d01f-2c72-4ca1-8e6e-2df439ff257e\",\\n  \"vinList\": [\\n    {\\n      \"dischargeWarning\": {\\n        \"hazardStatus\": 0,\\n        \"tailLampStatus\": 0\\n      },\\n      \"evStatusData\": [\\n        {\\n          \"attribute\": \"ign3Status\",\\n          \"dataType\": 1,\\n          \"value\": \"0\"\\n        }\\n      ],\\n      \"headLampStatus\": {\\n        \"headLamp\": 0,\\n        \"leftHighLamp\": 0,\\n        \"leftLowLamp\": 0,\\n        \"rightHighLamp\": 0,\\n        \"rightLowLamp\": 0\\n      },\\n      \"locationTimestamp\": {\\n        \"offSet\": -7,\\n        \"time\": \"20250708165943.000\"\\n      },\\n      \"statusData\": [\\n        {\\n          \"attribute\": \"odometer\",\\n          \"dataType\": 2,\\n          \"unit\": 1,\\n          \"value\": \"28605.6\"\\n        },\\n        {\\n          \"attribute\": \"gasLevel\",\\n          \"dataType\": 1,\\n          \"unit\": 6,\\n          \"value\": \"100\"\\n        },\\n        {\\n          \"attribute\": \"parkingPosition\",\\n          \"dataType\": 1,\\n          \"value\": \"0\"\\n        },\\n        {\\n          \"attribute\": \"engineOilStatus\",\\n          \"dataType\": 1,\\n          \"value\": \"0\"\\n        },\\n        {\\n          \"attribute\": \"airTemp\",\\n          \"dataType\": 1,\\n          \"unit\": 4,\\n          \"value\": \"LO\"\\n        },\\n        {\\n          \"attribute\": \"breakOilStatus\",\\n          \"dataType\": 1,\\n          \"value\": \"0\"\\n        },\\n        {\\n          \"attribute\": \"ignStatus\",\\n          \"dataType\": 1,\\n          \"value\": \"1\"\\n        },\\n        {\\n          \"attribute\": \"accModeStatus\",\\n          \"dataType\": 1,\\n          \"value\": \"1\"\\n        },\\n        {\\n          \"attribute\": \"batStatus\",\\n          \"dataType\": 1,\\n          \"unit\": 6,\\n          \"value\": \"92\"\\n        },\\n        {\\n          \"attribute\": \"washerFluidStatus\",\\n          \"dataType\": 1,\\n          \"value\": \"1\"\\n        },\\n        {\\n          \"attribute\": \"traveldirection\",\\n          \"dataType\": 2,\\n          \"unit\": 17,\\n          \"value\": \"85\"\\n        },\\n        {\\n          \"attribute\": \"speed\",\\n          \"dataType\": 1,\\n          \"unit\": 15,\\n          \"value\": \"28\"\\n        }\\n      ],\\n      \"statusTimestamp\": {\\n        \"offSet\": -7,\\n        \"time\": \"20250708170037.000\"\\n      },\\n      \"stopLampStatus\": {\\n        \"leftLamp\": 0,\\n        \"rightLamp\": 0,\\n        \"stopLamp\": 0\\n      },\\n      \"tid\": \"10206ef6-5c1d-11f0-aef6-f8cf27102e4c\",\\n      \"tirePressureWarning\": {\\n        \"frontLeft\": 0,\\n        \"frontRight\": 0,\\n        \"overall\": 0,\\n        \"rearLeft\": 0,\\n        \"rearRight\": 0\\n      },\\n      \"turnSignalStatus\": {\\n        \"leftFrontLamp\": 0,\\n        \"leftRearLamp\": 0,\\n        \"rightFrontLamp\": 0,\\n        \"rightRearLamp\": 0,\\n        \"turnSignalLamp\": 0\\n      },\\n      \"vin\": \"MASKEDVIN003\"\\n    }\\n  ]\\n}\n",
       "2     {\\n  \"meta\": {\\n    \"messageType\": \"VehicleData\",\\n    \"pollerFetchTime\": 1751825658365,\\n    \"version\": \"v2\"\\n  },\\n  \"partitionKey\": \"58244a3d-8e52-435c-b6b2-11d39da66fdb\",\\n  \"timestamp\": \"20250706181418.349\",\\n  \"transactionId\": \"58244a3d-8e52-435c-b6b2-11d39da66fdb\",\\n  \"vinList\": [\\n    {\\n      \"dischargeWarning\": {\\n        \"hazardStatus\": 0,\\n        \"tailLampStatus\": 0\\n      },\\n      \"evStatusData\": [\\n        {\\n          \"attribute\": \"ign3Status\",\\n          \"dataType\": 1,\\n          \"value\": \"0\"\\n        }\\n      ],\\n      \"headLampStatus\": {\\n        \"headLamp\": 0,\\n        \"leftHighLamp\": 0,\\n        \"leftLowLamp\": 0,\\n        \"rightHighLamp\": 0,\\n        \"rightLowLamp\": 0\\n      },\\n      \"locationTimestamp\": {\\n        \"offSet\": -7,\\n        \"time\": \"20250706181351.000\"\\n      },\\n      \"statusData\": [\\n        {\\n          \"attribute\": \"odometer\",\\n          \"dataType\": 2,\\n          \"unit\": 1,\\n          \"value\": \"28443.6\"\\n        },\\n        {\\n          \"attribute\": \"gasLevel\",\\n          \"dataType\": 1,\\n          \"unit\": 6,\\n          \"value\": \"37\"\\n        },\\n        {\\n          \"attribute\": \"parkingPosition\",\\n          \"dataType\": 1,\\n          \"value\": \"1\"\\n        },\\n        {\\n          \"attribute\": \"engineOilStatus\",\\n          \"dataType\": 1,\\n          \"value\": \"0\"\\n        },\\n        {\\n          \"attribute\": \"airTemp\",\\n          \"dataType\": 1,\\n          \"unit\": 4,\\n          \"value\": \"0\"\\n        },\\n        {\\n          \"attribute\": \"breakOilStatus\",\\n          \"dataType\": 1,\\n          \"value\": \"0\"\\n        },\\n        {\\n          \"attribute\": \"ignStatus\",\\n          \"dataType\": 1,\\n          \"value\": \"0\"\\n        },\\n        {\\n          \"attribute\": \"accModeStatus\",\\n          \"dataType\": 1,\\n          \"value\": \"0\"\\n        },\\n        {\\n          \"attribute\": \"batStatus\",\\n          \"dataType\": 1,\\n          \"unit\": 6,\\n          \"value\": \"87\"\\n        },\\n        {\\n          \"attribute\": \"washerFluidStatus\",\\n          \"dataType\": 1,\\n          \"value\": \"1\"\\n        },\\n        {\\n          \"attribute\": \"traveldirection\",\\n          \"dataType\": 2,\\n          \"unit\": 17,\\n          \"value\": \"21\"\\n        },\\n        {\\n          \"attribute\": \"speed\",\\n          \"dataType\": 1,\\n          \"unit\": 15,\\n          \"value\": \"0\"\\n        }\\n      ],\\n      \"statusTimestamp\": {\\n        \"offSet\": -7,\\n        \"time\": \"20250706181414.000\"\\n      },\\n      \"stopLampStatus\": {\\n        \"leftLamp\": 0,\\n        \"rightLamp\": 0,\\n        \"stopLamp\": 0\\n      },\\n      \"tid\": \"0417c3e0-5a95-11f0-83e0-8cdc0890f168\",\\n      \"tirePressureWarning\": {\\n        \"frontLeft\": 0,\\n        \"frontRight\": 0,\\n        \"overall\": 0,\\n        \"rearLeft\": 0,\\n        \"rearRight\": 0\\n      },\\n      \"turnSignalStatus\": {\\n        \"leftFrontLamp\": 0,\\n        \"leftRearLamp\": 0,\\n        \"rightFrontLamp\": 0,\\n        \"rightRearLamp\": 0,\\n        \"turnSignalLamp\": 0\\n      },\\n      \"vin\": \"MASKEDVIN003\"\\n    }\\n  ]\\n}\n",
       "3   {\\n  \"meta\": {\\n    \"messageType\": \"VehicleData\",\\n    \"pollerFetchTime\": 1752007396151,\\n    \"version\": \"v2\"\\n  },\\n  \"partitionKey\": \"d9bff54f-133e-4994-8c71-c3a37c310095\",\\n  \"timestamp\": \"20250708204316.134\",\\n  \"transactionId\": \"d9bff54f-133e-4994-8c71-c3a37c310095\",\\n  \"vinList\": [\\n    {\\n      \"dischargeWarning\": {\\n        \"hazardStatus\": 0,\\n        \"tailLampStatus\": 0\\n      },\\n      \"evStatusData\": [\\n        {\\n          \"attribute\": \"ign3Status\",\\n          \"dataType\": 1,\\n          \"value\": \"0\"\\n        }\\n      ],\\n      \"headLampStatus\": {\\n        \"headLamp\": 0,\\n        \"leftHighLamp\": 0,\\n        \"leftLowLamp\": 0,\\n        \"rightHighLamp\": 0,\\n        \"rightLowLamp\": 0\\n      },\\n      \"locationTimestamp\": {\\n        \"offSet\": -7,\\n        \"time\": \"20250708204302.000\"\\n      },\\n      \"statusData\": [\\n        {\\n          \"attribute\": \"odometer\",\\n          \"dataType\": 2,\\n          \"unit\": 1,\\n          \"value\": \"28902.2\"\\n        },\\n        {\\n          \"attribute\": \"gasLevel\",\\n          \"dataType\": 1,\\n          \"unit\": 6,\\n          \"value\": \"72\"\\n        },\\n        {\\n          \"attribute\": \"parkingPosition\",\\n          \"dataType\": 1,\\n          \"value\": \"0\"\\n        },\\n        {\\n          \"attribute\": \"engineOilStatus\",\\n          \"dataType\": 1,\\n          \"value\": \"0\"\\n        },\\n        {\\n          \"attribute\": \"airTemp\",\\n          \"dataType\": 1,\\n          \"unit\": 4,\\n          \"value\": \"LO\"\\n        },\\n        {\\n          \"attribute\": \"breakOilStatus\",\\n          \"dataType\": 1,\\n          \"value\": \"0\"\\n        },\\n        {\\n          \"attribute\": \"ignStatus\",\\n          \"dataType\": 1,\\n          \"value\": \"1\"\\n        },\\n        {\\n          \"attribute\": \"accModeStatus\",\\n          \"dataType\": 1,\\n          \"value\": \"1\"\\n        },\\n        {\\n          \"attribute\": \"batStatus\",\\n          \"dataType\": 1,\\n          \"unit\": 6,\\n          \"value\": \"86\"\\n        },\\n        {\\n          \"attribute\": \"washerFluidStatus\",\\n          \"dataType\": 1,\\n          \"value\": \"1\"\\n        },\\n        {\\n          \"attribute\": \"traveldirection\",\\n          \"dataType\": 2,\\n          \"unit\": 17,\\n          \"value\": \"28\"\\n        },\\n        {\\n          \"attribute\": \"speed\",\\n          \"dataType\": 1,\\n          \"unit\": 15,\\n          \"value\": \"55\"\\n        }\\n      ],\\n      \"statusTimestamp\": {\\n        \"offSet\": -7,\\n        \"time\": \"20250708204314.000\"\\n      },\\n      \"stopLampStatus\": {\\n        \"leftLamp\": 0,\\n        \"rightLamp\": 0,\\n        \"stopLamp\": 0\\n      },\\n      \"tid\": \"2964b2ba-5c3c-11f0-b2ba-f271010e7f00\",\\n      \"tirePressureWarning\": {\\n        \"frontLeft\": 0,\\n        \"frontRight\": 0,\\n        \"overall\": 0,\\n        \"rearLeft\": 0,\\n        \"rearRight\": 0\\n      },\\n      \"turnSignalStatus\": {\\n        \"leftFrontLamp\": 0,\\n        \"leftRearLamp\": 0,\\n        \"rightFrontLamp\": 0,\\n        \"rightRearLamp\": 0,\\n        \"turnSignalLamp\": 0\\n      },\\n      \"vin\": \"MASKEDVIN003\"\\n    }\\n  ]\\n}\n",
       "4   {\\n  \"meta\": {\\n    \"messageType\": \"VehicleData\",\\n    \"pollerFetchTime\": 1751747010652,\\n    \"version\": \"v2\"\\n  },\\n  \"partitionKey\": \"03648c59-a7d9-4056-b3a5-50083bb7c15d\",\\n  \"timestamp\": \"20250705202330.633\",\\n  \"transactionId\": \"03648c59-a7d9-4056-b3a5-50083bb7c15d\",\\n  \"vinList\": [\\n    {\\n      \"dischargeWarning\": {\\n        \"hazardStatus\": 0,\\n        \"tailLampStatus\": 0\\n      },\\n      \"evStatusData\": [\\n        {\\n          \"attribute\": \"ign3Status\",\\n          \"dataType\": 1,\\n          \"value\": \"0\"\\n        }\\n      ],\\n      \"headLampStatus\": {\\n        \"headLamp\": 0,\\n        \"leftHighLamp\": 0,\\n        \"leftLowLamp\": 0,\\n        \"rightHighLamp\": 0,\\n        \"rightLowLamp\": 0\\n      },\\n      \"locationTimestamp\": {\\n        \"offSet\": -7,\\n        \"time\": \"20250705202202.000\"\\n      },\\n      \"statusData\": [\\n        {\\n          \"attribute\": \"odometer\",\\n          \"dataType\": 2,\\n          \"unit\": 1,\\n          \"value\": \"28275.5\"\\n        },\\n        {\\n          \"attribute\": \"gasLevel\",\\n          \"dataType\": 1,\\n          \"unit\": 6,\\n          \"value\": \"63\"\\n        },\\n        {\\n          \"attribute\": \"parkingPosition\",\\n          \"dataType\": 1,\\n          \"value\": \"0\"\\n        },\\n        {\\n          \"attribute\": \"engineOilStatus\",\\n          \"dataType\": 1,\\n          \"value\": \"0\"\\n        },\\n        {\\n          \"attribute\": \"airTemp\",\\n          \"dataType\": 1,\\n          \"unit\": 4,\\n          \"value\": \"73\"\\n        },\\n        {\\n          \"attribute\": \"breakOilStatus\",\\n          \"dataType\": 1,\\n          \"value\": \"0\"\\n        },\\n        {\\n          \"attribute\": \"ignStatus\",\\n          \"dataType\": 1,\\n          \"value\": \"1\"\\n        },\\n        {\\n          \"attribute\": \"accModeStatus\",\\n          \"dataType\": 1,\\n          \"value\": \"1\"\\n        },\\n        {\\n          \"attribute\": \"batStatus\",\\n          \"dataType\": 1,\\n          \"unit\": 6,\\n          \"value\": \"93\"\\n        },\\n        {\\n          \"attribute\": \"washerFluidStatus\",\\n          \"dataType\": 1,\\n          \"value\": \"0\"\\n        },\\n        {\\n          \"attribute\": \"traveldirection\",\\n          \"dataType\": 2,\\n          \"unit\": 17,\\n          \"value\": \"149\"\\n        },\\n        {\\n          \"attribute\": \"speed\",\\n          \"dataType\": 1,\\n          \"unit\": 15,\\n          \"value\": \"0\"\\n        }\\n      ],\\n      \"statusTimestamp\": {\\n        \"offSet\": -7,\\n        \"time\": \"20250705202326.000\"\\n      },\\n      \"stopLampStatus\": {\\n        \"leftLamp\": 0,\\n        \"rightLamp\": 0,\\n        \"stopLamp\": 0\\n      },\\n      \"tid\": \"e6821043-59dd-11f0-904f-4d4afec1fe10\",\\n      \"tirePressureWarning\": {\\n        \"frontLeft\": 0,\\n        \"frontRight\": 0,\\n        \"overall\": 0,\\n        \"rearLeft\": 0,\\n        \"rearRight\": 0\\n      },\\n      \"turnSignalStatus\": {\\n        \"leftFrontLamp\": 0,\\n        \"leftRearLamp\": 0,\\n        \"rightFrontLamp\": 0,\\n        \"rightRearLamp\": 0,\\n        \"turnSignalLamp\": 0\\n      },\\n      \"vin\": \"MASKEDVIN003\"\\n    }\\n  ]\\n}"
      ]
     },
     "execution_count": 6,
     "metadata": {},
     "output_type": "execute_result"
    }
   ],
   "source": [
    "df.head()"
   ]
  },
  {
   "cell_type": "code",
   "execution_count": 9,
   "id": "91e29ab8",
   "metadata": {},
   "outputs": [
    {
     "name": "stdout",
     "output_type": "stream",
     "text": [
      "[\n",
      "  {\n",
      "    \"BODY_CLEANED\": \"{\\n  \\\"meta\\\": {\\n    \\\"messageType\\\": \\\"VehicleData\\\",\\n    \\\"pollerFetchTime\\\": 1751725939315,\\n    \\\"version\\\": \\\"v2\\\"\\n  },\\n  \\\"partitionKey\\\": \\\"df979dc9-5cc6-470f-a105-d3108fd03c19\\\",\\n  \\\"timestamp\\\": \\\"20250705143219.297\\\",\\n  \\\"transactionId\\\": \\\"df979dc9-5cc6-470f-a105-d3108fd03c19\\\",\\n  \\\"vinList\\\": [\\n    {\\n      \\\"dischargeWarning\\\": {\\n        \\\"hazardStatus\\\": 0,\\n        \\\"tailLampStatus\\\": 0\\n      },\\n      \\\"evStatusData\\\": [\\n        {\\n          \\\"attribute\\\": \\\"ign3Status\\\",\\n          \\\"dataType\\\": 1,\\n          \\\"value\\\": \\\"0\\\"\\n        }\\n      ],\\n      \\\"headLampStatus\\\": {\\n        \\\"headLamp\\\": 0,\\n        \\\"leftHighLamp\\\": 0,\\n        \\\"leftLowLamp\\\": 0,\\n        \\\"rightHighLamp\\\": 0,\\n        \\\"rightLowLamp\\\": 0\\n      },\\n      \\\"locationTimestamp\\\": {\\n        \\\"offSet\\\": -7,\\n        \\\"time\\\": \\\"20250705143213.000\\\"\\n      },\\n      \\\"statusData\\\": [\\n        {\\n          \\\"attribute\\\": \\\"odometer\\\",\\n          \\\"dataType\\\": 2,\\n          \\\"unit\\\": 1,\\n          \\\"value\\\": \\\"28082.6\\\"\\n        },\\n        {\\n          \\\"attribute\\\": \\\"gasLevel\\\",\\n          \\\"dataType\\\": 1,\\n          \\\"unit\\\": 6,\\n          \\\"value\\\": \\\"24\\\"\\n        },\\n        {\\n          \\\"attribute\\\": \\\"parkingPosition\\\",\\n          \\\"dataType\\\": 1,\\n          \\\"value\\\": \\\"1\\\"\\n        },\\n        {\\n          \\\"attribute\\\": \\\"engineOilStatus\\\",\\n          \\\"dataType\\\": 1,\\n          \\\"value\\\": \\\"0\\\"\\n        },\\n        {\\n          \\\"attribute\\\": \\\"airTemp\\\",\\n          \\\"dataType\\\": 1,\\n          \\\"unit\\\": 4,\\n          \\\"value\\\": \\\"0\\\"\\n        },\\n        {\\n          \\\"attribute\\\": \\\"breakOilStatus\\\",\\n          \\\"dataType\\\": 1,\\n          \\\"value\\\": \\\"0\\\"\\n        },\\n        {\\n          \\\"attribute\\\": \\\"ignStatus\\\",\\n          \\\"dataType\\\": 1,\\n          \\\"value\\\": \\\"1\\\"\\n        },\\n        {\\n          \\\"attribute\\\": \\\"accModeStatus\\\",\\n          \\\"dataType\\\": 1,\\n          \\\"value\\\": \\\"1\\\"\\n        },\\n        {\\n          \\\"attribute\\\": \\\"batStatus\\\",\\n          \\\"dataType\\\": 1,\\n          \\\"unit\\\": 6,\\n          \\\"value\\\": \\\"92\\\"\\n        },\\n        {\\n          \\\"attribute\\\": \\\"washerFluidStatus\\\",\\n          \\\"dataType\\\": 1,\\n          \\\"value\\\": \\\"1\\\"\\n        },\\n        {\\n          \\\"attribute\\\": \\\"traveldirection\\\",\\n          \\\"dataType\\\": 2,\\n          \\\"unit\\\": 17,\\n          \\\"value\\\": \\\"268\\\"\\n        },\\n        {\\n          \\\"attribute\\\": \\\"speed\\\",\\n          \\\"dataType\\\": 1,\\n          \\\"unit\\\": 15,\\n          \\\"value\\\": \\\"0\\\"\\n        }\\n      ],\\n      \\\"statusTimestamp\\\": {\\n        \\\"offSet\\\": -7,\\n        \\\"time\\\": \\\"20250705143210.000\\\"\\n      },\\n      \\\"stopLampStatus\\\": {\\n        \\\"leftLamp\\\": 0,\\n        \\\"rightLamp\\\": 0,\\n        \\\"stopLamp\\\": 0\\n      },\\n      \\\"tid\\\": \\\"d79a57d4-59ac-11f0-9e9b-2b40fc6391d9\\\",\\n      \\\"tirePressureWarning\\\": {\\n        \\\"frontLeft\\\": 0,\\n        \\\"frontRight\\\": 0,\\n        \\\"overall\\\": 0,\\n        \\\"rearLeft\\\": 0,\\n        \\\"rearRight\\\": 0\\n      },\\n      \\\"turnSignalStatus\\\": {\\n        \\\"leftFrontLamp\\\": 0,\\n        \\\"leftRearLamp\\\": 0,\\n        \\\"rightFrontLamp\\\": 0,\\n        \\\"rightRearLamp\\\": 0,\\n        \\\"turnSignalLamp\\\": 0\\n      },\\n      \\\"vin\\\": \\\"MASKEDVIN003\\\"\\n    }\\n  ]\\n}\"\n",
      "  }\n",
      "]\n"
     ]
    }
   ],
   "source": [
    "json_str = df.head(1).to_json(orient='records')\n",
    "#print(json_str)\n",
    "print(json.dumps(json.loads(json_str), indent=2))"
   ]
  },
  {
   "cell_type": "code",
   "execution_count": 10,
   "id": "19631a5d",
   "metadata": {},
   "outputs": [],
   "source": [
    "def parse_vehicle_data(json_string):\n",
    "    data = json.loads(json_string)\n",
    "\n",
    "    # Safely get nested data using .get() to avoid errors if keys are missing\n",
    "    vin_list_item = data.get('vinList', [{}])[0] # Get the first item in vinList, or an empty dict\n",
    "    meta = data.get('meta', {})\n",
    "\n",
    "    # The 'statusData' list contains multiple attributes. We'll convert it to a\n",
    "    # dictionary for easy lookups. This is much more robust than assuming the order.\n",
    "    status_data_list = vin_list_item.get('statusData', [])\n",
    "    status_dict = {item.get('attribute'): item.get('value') for item in status_data_list}\n",
    "\n",
    "    # Extract the required values\n",
    "    extracted_data = {\n",
    "        'statusTimestamp': vin_list_item.get('statusTimestamp', {}).get('time'),\n",
    "        'pollerFetchTime': meta.get('pollerFetchTime'),\n",
    "        'speed': status_dict.get('speed'),\n",
    "        'odometer': status_dict.get('odometer'),\n",
    "        'ignStatus': status_dict.get('ignStatus'),\n",
    "        'VIN': vin_list_item.get('vin'),\n",
    "        'gasLevel': status_dict.get('gasLevel')\n",
    "    }\n",
    "\n",
    "    return pd.Series(extracted_data)"
   ]
  },
  {
   "cell_type": "code",
   "execution_count": 14,
   "id": "a967ddd5",
   "metadata": {},
   "outputs": [],
   "source": [
    "parsed_df = df['BODY_CLEANED'].apply(parse_vehicle_data)"
   ]
  },
  {
   "cell_type": "code",
   "execution_count": 15,
   "id": "d2798cdc",
   "metadata": {},
   "outputs": [
    {
     "data": {
      "text/html": [
       "<div>\n",
       "<style scoped>\n",
       "    .dataframe tbody tr th:only-of-type {\n",
       "        vertical-align: middle;\n",
       "    }\n",
       "\n",
       "    .dataframe tbody tr th {\n",
       "        vertical-align: top;\n",
       "    }\n",
       "\n",
       "    .dataframe thead th {\n",
       "        text-align: right;\n",
       "    }\n",
       "</style>\n",
       "<table border=\"1\" class=\"dataframe\">\n",
       "  <thead>\n",
       "    <tr style=\"text-align: right;\">\n",
       "      <th></th>\n",
       "      <th>statusTimestamp</th>\n",
       "      <th>pollerFetchTime</th>\n",
       "      <th>speed</th>\n",
       "      <th>odometer</th>\n",
       "      <th>ignStatus</th>\n",
       "      <th>VIN</th>\n",
       "      <th>gasLevel</th>\n",
       "    </tr>\n",
       "  </thead>\n",
       "  <tbody>\n",
       "    <tr>\n",
       "      <th>0</th>\n",
       "      <td>20250705143210.000</td>\n",
       "      <td>1751725939315</td>\n",
       "      <td>0</td>\n",
       "      <td>28082.6</td>\n",
       "      <td>1</td>\n",
       "      <td>MASKEDVIN003</td>\n",
       "      <td>24</td>\n",
       "    </tr>\n",
       "    <tr>\n",
       "      <th>1</th>\n",
       "      <td>20250708170037.000</td>\n",
       "      <td>1751994040672</td>\n",
       "      <td>28</td>\n",
       "      <td>28605.6</td>\n",
       "      <td>1</td>\n",
       "      <td>MASKEDVIN003</td>\n",
       "      <td>100</td>\n",
       "    </tr>\n",
       "    <tr>\n",
       "      <th>2</th>\n",
       "      <td>20250706181414.000</td>\n",
       "      <td>1751825658365</td>\n",
       "      <td>0</td>\n",
       "      <td>28443.6</td>\n",
       "      <td>0</td>\n",
       "      <td>MASKEDVIN003</td>\n",
       "      <td>37</td>\n",
       "    </tr>\n",
       "    <tr>\n",
       "      <th>3</th>\n",
       "      <td>20250708204314.000</td>\n",
       "      <td>1752007396151</td>\n",
       "      <td>55</td>\n",
       "      <td>28902.2</td>\n",
       "      <td>1</td>\n",
       "      <td>MASKEDVIN003</td>\n",
       "      <td>72</td>\n",
       "    </tr>\n",
       "    <tr>\n",
       "      <th>4</th>\n",
       "      <td>20250705202326.000</td>\n",
       "      <td>1751747010652</td>\n",
       "      <td>0</td>\n",
       "      <td>28275.5</td>\n",
       "      <td>1</td>\n",
       "      <td>MASKEDVIN003</td>\n",
       "      <td>63</td>\n",
       "    </tr>\n",
       "  </tbody>\n",
       "</table>\n",
       "</div>"
      ],
      "text/plain": [
       "      statusTimestamp  pollerFetchTime speed odometer ignStatus           VIN  \\\n",
       "0  20250705143210.000    1751725939315     0  28082.6         1  MASKEDVIN003   \n",
       "1  20250708170037.000    1751994040672    28  28605.6         1  MASKEDVIN003   \n",
       "2  20250706181414.000    1751825658365     0  28443.6         0  MASKEDVIN003   \n",
       "3  20250708204314.000    1752007396151    55  28902.2         1  MASKEDVIN003   \n",
       "4  20250705202326.000    1751747010652     0  28275.5         1  MASKEDVIN003   \n",
       "\n",
       "  gasLevel  \n",
       "0       24  \n",
       "1      100  \n",
       "2       37  \n",
       "3       72  \n",
       "4       63  "
      ]
     },
     "execution_count": 15,
     "metadata": {},
     "output_type": "execute_result"
    }
   ],
   "source": [
    "parsed_df.head()"
   ]
  },
  {
   "cell_type": "code",
   "execution_count": 16,
   "id": "4168d5fa",
   "metadata": {},
   "outputs": [],
   "source": [
    "parsed_df.to_csv('parsed_vehicle_data.csv', index=False)"
   ]
  },
  {
   "cell_type": "code",
   "execution_count": 28,
   "id": "d1548852",
   "metadata": {},
   "outputs": [],
   "source": [
    "new_df = pd.read_csv('parsed_vehicle_data.csv', dtype={'statusTimestamp': str})"
   ]
  },
  {
   "cell_type": "code",
   "execution_count": 29,
   "id": "4a7a6314",
   "metadata": {},
   "outputs": [
    {
     "data": {
      "text/html": [
       "<div>\n",
       "<style scoped>\n",
       "    .dataframe tbody tr th:only-of-type {\n",
       "        vertical-align: middle;\n",
       "    }\n",
       "\n",
       "    .dataframe tbody tr th {\n",
       "        vertical-align: top;\n",
       "    }\n",
       "\n",
       "    .dataframe thead th {\n",
       "        text-align: right;\n",
       "    }\n",
       "</style>\n",
       "<table border=\"1\" class=\"dataframe\">\n",
       "  <thead>\n",
       "    <tr style=\"text-align: right;\">\n",
       "      <th></th>\n",
       "      <th>statusTimestamp</th>\n",
       "      <th>pollerFetchTime</th>\n",
       "      <th>speed</th>\n",
       "      <th>odometer</th>\n",
       "      <th>ignStatus</th>\n",
       "      <th>VIN</th>\n",
       "      <th>gasLevel</th>\n",
       "    </tr>\n",
       "  </thead>\n",
       "  <tbody>\n",
       "    <tr>\n",
       "      <th>0</th>\n",
       "      <td>20250705143210.000</td>\n",
       "      <td>1751725939315</td>\n",
       "      <td>0.0</td>\n",
       "      <td>28082.6</td>\n",
       "      <td>1.0</td>\n",
       "      <td>MASKEDVIN003</td>\n",
       "      <td>24.0</td>\n",
       "    </tr>\n",
       "    <tr>\n",
       "      <th>1</th>\n",
       "      <td>20250708170037.000</td>\n",
       "      <td>1751994040672</td>\n",
       "      <td>28.0</td>\n",
       "      <td>28605.6</td>\n",
       "      <td>1.0</td>\n",
       "      <td>MASKEDVIN003</td>\n",
       "      <td>100.0</td>\n",
       "    </tr>\n",
       "    <tr>\n",
       "      <th>2</th>\n",
       "      <td>20250706181414.000</td>\n",
       "      <td>1751825658365</td>\n",
       "      <td>0.0</td>\n",
       "      <td>28443.6</td>\n",
       "      <td>0.0</td>\n",
       "      <td>MASKEDVIN003</td>\n",
       "      <td>37.0</td>\n",
       "    </tr>\n",
       "    <tr>\n",
       "      <th>3</th>\n",
       "      <td>20250708204314.000</td>\n",
       "      <td>1752007396151</td>\n",
       "      <td>55.0</td>\n",
       "      <td>28902.2</td>\n",
       "      <td>1.0</td>\n",
       "      <td>MASKEDVIN003</td>\n",
       "      <td>72.0</td>\n",
       "    </tr>\n",
       "    <tr>\n",
       "      <th>4</th>\n",
       "      <td>20250705202326.000</td>\n",
       "      <td>1751747010652</td>\n",
       "      <td>0.0</td>\n",
       "      <td>28275.5</td>\n",
       "      <td>1.0</td>\n",
       "      <td>MASKEDVIN003</td>\n",
       "      <td>63.0</td>\n",
       "    </tr>\n",
       "  </tbody>\n",
       "</table>\n",
       "</div>"
      ],
      "text/plain": [
       "      statusTimestamp  pollerFetchTime  speed  odometer  ignStatus  \\\n",
       "0  20250705143210.000    1751725939315    0.0   28082.6        1.0   \n",
       "1  20250708170037.000    1751994040672   28.0   28605.6        1.0   \n",
       "2  20250706181414.000    1751825658365    0.0   28443.6        0.0   \n",
       "3  20250708204314.000    1752007396151   55.0   28902.2        1.0   \n",
       "4  20250705202326.000    1751747010652    0.0   28275.5        1.0   \n",
       "\n",
       "            VIN  gasLevel  \n",
       "0  MASKEDVIN003      24.0  \n",
       "1  MASKEDVIN003     100.0  \n",
       "2  MASKEDVIN003      37.0  \n",
       "3  MASKEDVIN003      72.0  \n",
       "4  MASKEDVIN003      63.0  "
      ]
     },
     "execution_count": 29,
     "metadata": {},
     "output_type": "execute_result"
    }
   ],
   "source": [
    "new_df.head()"
   ]
  },
  {
   "cell_type": "code",
   "execution_count": 23,
   "id": "02e311fd",
   "metadata": {},
   "outputs": [
    {
     "data": {
      "text/plain": [
       "(781942, 7)"
      ]
     },
     "execution_count": 23,
     "metadata": {},
     "output_type": "execute_result"
    }
   ],
   "source": [
    "new_df.shape"
   ]
  },
  {
   "cell_type": "code",
   "execution_count": 22,
   "id": "1cdaded9",
   "metadata": {},
   "outputs": [
    {
     "data": {
      "text/plain": [
       "statusTimestamp    float64\n",
       "pollerFetchTime      int64\n",
       "speed              float64\n",
       "odometer           float64\n",
       "ignStatus          float64\n",
       "VIN                 object\n",
       "gasLevel           float64\n",
       "dtype: object"
      ]
     },
     "execution_count": 22,
     "metadata": {},
     "output_type": "execute_result"
    }
   ],
   "source": [
    "new_df.dtypes"
   ]
  },
  {
   "cell_type": "code",
   "execution_count": 30,
   "id": "6f59d4a7",
   "metadata": {},
   "outputs": [],
   "source": [
    "new_df['statusTimestamp'] = pd.to_datetime(new_df['statusTimestamp'], format='%Y%m%d%H%M%S.%f')"
   ]
  },
  {
   "cell_type": "code",
   "execution_count": 31,
   "id": "f5478b89",
   "metadata": {},
   "outputs": [
    {
     "data": {
      "text/html": [
       "<div>\n",
       "<style scoped>\n",
       "    .dataframe tbody tr th:only-of-type {\n",
       "        vertical-align: middle;\n",
       "    }\n",
       "\n",
       "    .dataframe tbody tr th {\n",
       "        vertical-align: top;\n",
       "    }\n",
       "\n",
       "    .dataframe thead th {\n",
       "        text-align: right;\n",
       "    }\n",
       "</style>\n",
       "<table border=\"1\" class=\"dataframe\">\n",
       "  <thead>\n",
       "    <tr style=\"text-align: right;\">\n",
       "      <th></th>\n",
       "      <th>statusTimestamp</th>\n",
       "      <th>pollerFetchTime</th>\n",
       "      <th>speed</th>\n",
       "      <th>odometer</th>\n",
       "      <th>ignStatus</th>\n",
       "      <th>VIN</th>\n",
       "      <th>gasLevel</th>\n",
       "    </tr>\n",
       "  </thead>\n",
       "  <tbody>\n",
       "    <tr>\n",
       "      <th>0</th>\n",
       "      <td>2025-07-05 14:32:10</td>\n",
       "      <td>1751725939315</td>\n",
       "      <td>0.0</td>\n",
       "      <td>28082.6</td>\n",
       "      <td>1.0</td>\n",
       "      <td>MASKEDVIN003</td>\n",
       "      <td>24.0</td>\n",
       "    </tr>\n",
       "    <tr>\n",
       "      <th>1</th>\n",
       "      <td>2025-07-08 17:00:37</td>\n",
       "      <td>1751994040672</td>\n",
       "      <td>28.0</td>\n",
       "      <td>28605.6</td>\n",
       "      <td>1.0</td>\n",
       "      <td>MASKEDVIN003</td>\n",
       "      <td>100.0</td>\n",
       "    </tr>\n",
       "    <tr>\n",
       "      <th>2</th>\n",
       "      <td>2025-07-06 18:14:14</td>\n",
       "      <td>1751825658365</td>\n",
       "      <td>0.0</td>\n",
       "      <td>28443.6</td>\n",
       "      <td>0.0</td>\n",
       "      <td>MASKEDVIN003</td>\n",
       "      <td>37.0</td>\n",
       "    </tr>\n",
       "    <tr>\n",
       "      <th>3</th>\n",
       "      <td>2025-07-08 20:43:14</td>\n",
       "      <td>1752007396151</td>\n",
       "      <td>55.0</td>\n",
       "      <td>28902.2</td>\n",
       "      <td>1.0</td>\n",
       "      <td>MASKEDVIN003</td>\n",
       "      <td>72.0</td>\n",
       "    </tr>\n",
       "    <tr>\n",
       "      <th>4</th>\n",
       "      <td>2025-07-05 20:23:26</td>\n",
       "      <td>1751747010652</td>\n",
       "      <td>0.0</td>\n",
       "      <td>28275.5</td>\n",
       "      <td>1.0</td>\n",
       "      <td>MASKEDVIN003</td>\n",
       "      <td>63.0</td>\n",
       "    </tr>\n",
       "  </tbody>\n",
       "</table>\n",
       "</div>"
      ],
      "text/plain": [
       "      statusTimestamp  pollerFetchTime  speed  odometer  ignStatus  \\\n",
       "0 2025-07-05 14:32:10    1751725939315    0.0   28082.6        1.0   \n",
       "1 2025-07-08 17:00:37    1751994040672   28.0   28605.6        1.0   \n",
       "2 2025-07-06 18:14:14    1751825658365    0.0   28443.6        0.0   \n",
       "3 2025-07-08 20:43:14    1752007396151   55.0   28902.2        1.0   \n",
       "4 2025-07-05 20:23:26    1751747010652    0.0   28275.5        1.0   \n",
       "\n",
       "            VIN  gasLevel  \n",
       "0  MASKEDVIN003      24.0  \n",
       "1  MASKEDVIN003     100.0  \n",
       "2  MASKEDVIN003      37.0  \n",
       "3  MASKEDVIN003      72.0  \n",
       "4  MASKEDVIN003      63.0  "
      ]
     },
     "execution_count": 31,
     "metadata": {},
     "output_type": "execute_result"
    }
   ],
   "source": [
    "new_df.head()"
   ]
  },
  {
   "cell_type": "code",
   "execution_count": 44,
   "id": "56cce0d6",
   "metadata": {},
   "outputs": [],
   "source": [
    "def remove_out_of_order(df):\n",
    "    \"\"\"\n",
    "    Removes rows where the timestamp is less than any previously seen timestamp.\n",
    "    Keeps only rows where the timestamp is >= all previous timestamps.\n",
    "    Assumes df is sorted by arrival order.\n",
    "    \"\"\"\n",
    "    # Ensure the column is datetime\n",
    "    df = df.copy()\n",
    "    # Create a mask where each row's timestamp is >= the max seen so far\n",
    "    #mask = df[timestamp_col].cummax() == df[timestamp_col]\n",
    "    mask = []\n",
    "    max_seen = None\n",
    "    for ts in df['statusTimestamp']:\n",
    "        if (max_seen is None) or (ts >= max_seen):\n",
    "            mask.append(True)\n",
    "            max_seen = ts\n",
    "        else:\n",
    "            mask.append(False)\n",
    "    return df[mask].reset_index(drop=True)"
   ]
  },
  {
   "cell_type": "code",
   "execution_count": 45,
   "id": "787bb21b",
   "metadata": {},
   "outputs": [],
   "source": [
    "cleaned_df = remove_out_of_order(new_df)"
   ]
  },
  {
   "cell_type": "code",
   "execution_count": 46,
   "id": "02f529b2",
   "metadata": {},
   "outputs": [
    {
     "data": {
      "text/html": [
       "<div>\n",
       "<style scoped>\n",
       "    .dataframe tbody tr th:only-of-type {\n",
       "        vertical-align: middle;\n",
       "    }\n",
       "\n",
       "    .dataframe tbody tr th {\n",
       "        vertical-align: top;\n",
       "    }\n",
       "\n",
       "    .dataframe thead th {\n",
       "        text-align: right;\n",
       "    }\n",
       "</style>\n",
       "<table border=\"1\" class=\"dataframe\">\n",
       "  <thead>\n",
       "    <tr style=\"text-align: right;\">\n",
       "      <th></th>\n",
       "      <th>statusTimestamp</th>\n",
       "      <th>pollerFetchTime</th>\n",
       "      <th>speed</th>\n",
       "      <th>odometer</th>\n",
       "      <th>ignStatus</th>\n",
       "      <th>VIN</th>\n",
       "      <th>gasLevel</th>\n",
       "    </tr>\n",
       "  </thead>\n",
       "  <tbody>\n",
       "    <tr>\n",
       "      <th>0</th>\n",
       "      <td>2025-07-05 14:32:10</td>\n",
       "      <td>1751725939315</td>\n",
       "      <td>0.0</td>\n",
       "      <td>28082.6</td>\n",
       "      <td>1.0</td>\n",
       "      <td>MASKEDVIN003</td>\n",
       "      <td>24.0</td>\n",
       "    </tr>\n",
       "    <tr>\n",
       "      <th>1</th>\n",
       "      <td>2025-07-08 17:00:37</td>\n",
       "      <td>1751994040672</td>\n",
       "      <td>28.0</td>\n",
       "      <td>28605.6</td>\n",
       "      <td>1.0</td>\n",
       "      <td>MASKEDVIN003</td>\n",
       "      <td>100.0</td>\n",
       "    </tr>\n",
       "    <tr>\n",
       "      <th>2</th>\n",
       "      <td>2025-07-08 20:43:14</td>\n",
       "      <td>1752007396151</td>\n",
       "      <td>55.0</td>\n",
       "      <td>28902.2</td>\n",
       "      <td>1.0</td>\n",
       "      <td>MASKEDVIN003</td>\n",
       "      <td>72.0</td>\n",
       "    </tr>\n",
       "    <tr>\n",
       "      <th>3</th>\n",
       "      <td>2025-07-09 18:38:10</td>\n",
       "      <td>1752086292389</td>\n",
       "      <td>0.0</td>\n",
       "      <td>29296.9</td>\n",
       "      <td>0.0</td>\n",
       "      <td>MASKEDVIN003</td>\n",
       "      <td>23.0</td>\n",
       "    </tr>\n",
       "    <tr>\n",
       "      <th>4</th>\n",
       "      <td>2025-07-11 23:47:42</td>\n",
       "      <td>1752277666972</td>\n",
       "      <td>52.0</td>\n",
       "      <td>29460.8</td>\n",
       "      <td>1.0</td>\n",
       "      <td>MASKEDVIN003</td>\n",
       "      <td>84.0</td>\n",
       "    </tr>\n",
       "  </tbody>\n",
       "</table>\n",
       "</div>"
      ],
      "text/plain": [
       "      statusTimestamp  pollerFetchTime  speed  odometer  ignStatus  \\\n",
       "0 2025-07-05 14:32:10    1751725939315    0.0   28082.6        1.0   \n",
       "1 2025-07-08 17:00:37    1751994040672   28.0   28605.6        1.0   \n",
       "2 2025-07-08 20:43:14    1752007396151   55.0   28902.2        1.0   \n",
       "3 2025-07-09 18:38:10    1752086292389    0.0   29296.9        0.0   \n",
       "4 2025-07-11 23:47:42    1752277666972   52.0   29460.8        1.0   \n",
       "\n",
       "            VIN  gasLevel  \n",
       "0  MASKEDVIN003      24.0  \n",
       "1  MASKEDVIN003     100.0  \n",
       "2  MASKEDVIN003      72.0  \n",
       "3  MASKEDVIN003      23.0  \n",
       "4  MASKEDVIN003      84.0  "
      ]
     },
     "execution_count": 46,
     "metadata": {},
     "output_type": "execute_result"
    }
   ],
   "source": [
    "cleaned_df.head()"
   ]
  }
 ],
 "metadata": {
  "kernelspec": {
   "display_name": "Python 3",
   "language": "python",
   "name": "python3"
  },
  "language_info": {
   "codemirror_mode": {
    "name": "ipython",
    "version": 3
   },
   "file_extension": ".py",
   "mimetype": "text/x-python",
   "name": "python",
   "nbconvert_exporter": "python",
   "pygments_lexer": "ipython3",
   "version": "3.12.8"
  }
 },
 "nbformat": 4,
 "nbformat_minor": 5
}
