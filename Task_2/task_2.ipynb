{
 "cells": [
  {
   "cell_type": "code",
   "execution_count": 1,
   "id": "fac4a411",
   "metadata": {},
   "outputs": [],
   "source": [
    "import pandas as pd\n",
    "import numpy as np\n",
    "import matplotlib.pyplot as plt\n",
    "import seaborn as sns\n",
    "import json"
   ]
  },
  {
   "cell_type": "code",
   "execution_count": 3,
   "id": "49c344cd",
   "metadata": {},
   "outputs": [],
   "source": [
    "df = pd.read_csv('D:\\\\Programming\\\\Motorq\\\\ds_assement_2026_summer_intern\\\\Task_1\\\\parsed_vehicle_data.csv', dtype={'statusTimestamp': str})"
   ]
  },
  {
   "cell_type": "code",
   "execution_count": 5,
   "id": "71773c15",
   "metadata": {},
   "outputs": [],
   "source": [
    "df['statusTimestamp'] = pd.to_datetime(df['statusTimestamp'], format='%Y%m%d%H%M%S.%f')"
   ]
  },
  {
   "cell_type": "code",
   "execution_count": 6,
   "id": "156e4cc2",
   "metadata": {},
   "outputs": [
    {
     "data": {
      "text/html": [
       "<div>\n",
       "<style scoped>\n",
       "    .dataframe tbody tr th:only-of-type {\n",
       "        vertical-align: middle;\n",
       "    }\n",
       "\n",
       "    .dataframe tbody tr th {\n",
       "        vertical-align: top;\n",
       "    }\n",
       "\n",
       "    .dataframe thead th {\n",
       "        text-align: right;\n",
       "    }\n",
       "</style>\n",
       "<table border=\"1\" class=\"dataframe\">\n",
       "  <thead>\n",
       "    <tr style=\"text-align: right;\">\n",
       "      <th></th>\n",
       "      <th>statusTimestamp</th>\n",
       "      <th>pollerFetchTime</th>\n",
       "      <th>speed</th>\n",
       "      <th>odometer</th>\n",
       "      <th>ignStatus</th>\n",
       "      <th>VIN</th>\n",
       "      <th>gasLevel</th>\n",
       "    </tr>\n",
       "  </thead>\n",
       "  <tbody>\n",
       "    <tr>\n",
       "      <th>0</th>\n",
       "      <td>2025-07-05 14:32:10</td>\n",
       "      <td>1751725939315</td>\n",
       "      <td>0.0</td>\n",
       "      <td>28082.6</td>\n",
       "      <td>1.0</td>\n",
       "      <td>MASKEDVIN003</td>\n",
       "      <td>24.0</td>\n",
       "    </tr>\n",
       "    <tr>\n",
       "      <th>1</th>\n",
       "      <td>2025-07-08 17:00:37</td>\n",
       "      <td>1751994040672</td>\n",
       "      <td>28.0</td>\n",
       "      <td>28605.6</td>\n",
       "      <td>1.0</td>\n",
       "      <td>MASKEDVIN003</td>\n",
       "      <td>100.0</td>\n",
       "    </tr>\n",
       "    <tr>\n",
       "      <th>2</th>\n",
       "      <td>2025-07-06 18:14:14</td>\n",
       "      <td>1751825658365</td>\n",
       "      <td>0.0</td>\n",
       "      <td>28443.6</td>\n",
       "      <td>0.0</td>\n",
       "      <td>MASKEDVIN003</td>\n",
       "      <td>37.0</td>\n",
       "    </tr>\n",
       "    <tr>\n",
       "      <th>3</th>\n",
       "      <td>2025-07-08 20:43:14</td>\n",
       "      <td>1752007396151</td>\n",
       "      <td>55.0</td>\n",
       "      <td>28902.2</td>\n",
       "      <td>1.0</td>\n",
       "      <td>MASKEDVIN003</td>\n",
       "      <td>72.0</td>\n",
       "    </tr>\n",
       "    <tr>\n",
       "      <th>4</th>\n",
       "      <td>2025-07-05 20:23:26</td>\n",
       "      <td>1751747010652</td>\n",
       "      <td>0.0</td>\n",
       "      <td>28275.5</td>\n",
       "      <td>1.0</td>\n",
       "      <td>MASKEDVIN003</td>\n",
       "      <td>63.0</td>\n",
       "    </tr>\n",
       "  </tbody>\n",
       "</table>\n",
       "</div>"
      ],
      "text/plain": [
       "      statusTimestamp  pollerFetchTime  speed  odometer  ignStatus  \\\n",
       "0 2025-07-05 14:32:10    1751725939315    0.0   28082.6        1.0   \n",
       "1 2025-07-08 17:00:37    1751994040672   28.0   28605.6        1.0   \n",
       "2 2025-07-06 18:14:14    1751825658365    0.0   28443.6        0.0   \n",
       "3 2025-07-08 20:43:14    1752007396151   55.0   28902.2        1.0   \n",
       "4 2025-07-05 20:23:26    1751747010652    0.0   28275.5        1.0   \n",
       "\n",
       "            VIN  gasLevel  \n",
       "0  MASKEDVIN003      24.0  \n",
       "1  MASKEDVIN003     100.0  \n",
       "2  MASKEDVIN003      37.0  \n",
       "3  MASKEDVIN003      72.0  \n",
       "4  MASKEDVIN003      63.0  "
      ]
     },
     "execution_count": 6,
     "metadata": {},
     "output_type": "execute_result"
    }
   ],
   "source": [
    "df.head()"
   ]
  },
  {
   "cell_type": "code",
   "execution_count": 7,
   "id": "e62c400f",
   "metadata": {},
   "outputs": [
    {
     "data": {
      "text/plain": [
       "(781942, 7)"
      ]
     },
     "execution_count": 7,
     "metadata": {},
     "output_type": "execute_result"
    }
   ],
   "source": [
    "df.shape"
   ]
  },
  {
   "cell_type": "code",
   "execution_count": null,
   "id": "87b94b26",
   "metadata": {},
   "outputs": [],
   "source": [
    "def remove_conflicting_messages(df):\n",
    "    \"\"\"\n",
    "    Removes duplicate/conflicting messages with the same statusTimestamp.\n",
    "    Keeps only the first message (by pollerFetchTime) for each statusTimestamp.\n",
    "    \"\"\"\n",
    "    df_sorted = df.sort_values(['statusTimestamp', 'pollerFetchTime'])\n",
    "    # Drop duplicates, keeping the first (earliest pollerFetchTime)\n",
    "    df_2 = df_sorted.drop_duplicates(subset=['statusTimestamp'], keep='first')\n",
    "    return df_2.reset_index(drop=True)"
   ]
  },
  {
   "cell_type": "code",
   "execution_count": 9,
   "id": "411f69ab",
   "metadata": {},
   "outputs": [],
   "source": [
    "new_df = remove_conflicting_messages(df)"
   ]
  },
  {
   "cell_type": "code",
   "execution_count": 11,
   "id": "c767103b",
   "metadata": {},
   "outputs": [
    {
     "data": {
      "text/html": [
       "<div>\n",
       "<style scoped>\n",
       "    .dataframe tbody tr th:only-of-type {\n",
       "        vertical-align: middle;\n",
       "    }\n",
       "\n",
       "    .dataframe tbody tr th {\n",
       "        vertical-align: top;\n",
       "    }\n",
       "\n",
       "    .dataframe thead th {\n",
       "        text-align: right;\n",
       "    }\n",
       "</style>\n",
       "<table border=\"1\" class=\"dataframe\">\n",
       "  <thead>\n",
       "    <tr style=\"text-align: right;\">\n",
       "      <th></th>\n",
       "      <th>statusTimestamp</th>\n",
       "      <th>pollerFetchTime</th>\n",
       "      <th>speed</th>\n",
       "      <th>odometer</th>\n",
       "      <th>ignStatus</th>\n",
       "      <th>VIN</th>\n",
       "      <th>gasLevel</th>\n",
       "    </tr>\n",
       "  </thead>\n",
       "  <tbody>\n",
       "    <tr>\n",
       "      <th>0</th>\n",
       "      <td>2025-07-01 09:21:33</td>\n",
       "      <td>1751383288456</td>\n",
       "      <td>0.0</td>\n",
       "      <td>47685.127066</td>\n",
       "      <td>1.0</td>\n",
       "      <td>MASKEDVIN013</td>\n",
       "      <td>31.0</td>\n",
       "    </tr>\n",
       "    <tr>\n",
       "      <th>1</th>\n",
       "      <td>2025-07-01 14:01:12</td>\n",
       "      <td>1751378474562</td>\n",
       "      <td>0.0</td>\n",
       "      <td>14634.900000</td>\n",
       "      <td>0.0</td>\n",
       "      <td>MASKEDVIN002</td>\n",
       "      <td>19.0</td>\n",
       "    </tr>\n",
       "    <tr>\n",
       "      <th>2</th>\n",
       "      <td>2025-07-01 14:04:02</td>\n",
       "      <td>1751378644554</td>\n",
       "      <td>0.0</td>\n",
       "      <td>14634.900000</td>\n",
       "      <td>0.0</td>\n",
       "      <td>MASKEDVIN002</td>\n",
       "      <td>19.0</td>\n",
       "    </tr>\n",
       "    <tr>\n",
       "      <th>3</th>\n",
       "      <td>2025-07-01 14:14:40</td>\n",
       "      <td>1751379281772</td>\n",
       "      <td>0.0</td>\n",
       "      <td>19939.100000</td>\n",
       "      <td>0.0</td>\n",
       "      <td>MASKEDVIN012</td>\n",
       "      <td>59.0</td>\n",
       "    </tr>\n",
       "    <tr>\n",
       "      <th>4</th>\n",
       "      <td>2025-07-01 14:17:30</td>\n",
       "      <td>1751379459673</td>\n",
       "      <td>0.0</td>\n",
       "      <td>19939.100000</td>\n",
       "      <td>0.0</td>\n",
       "      <td>MASKEDVIN012</td>\n",
       "      <td>59.0</td>\n",
       "    </tr>\n",
       "  </tbody>\n",
       "</table>\n",
       "</div>"
      ],
      "text/plain": [
       "      statusTimestamp  pollerFetchTime  speed      odometer  ignStatus  \\\n",
       "0 2025-07-01 09:21:33    1751383288456    0.0  47685.127066        1.0   \n",
       "1 2025-07-01 14:01:12    1751378474562    0.0  14634.900000        0.0   \n",
       "2 2025-07-01 14:04:02    1751378644554    0.0  14634.900000        0.0   \n",
       "3 2025-07-01 14:14:40    1751379281772    0.0  19939.100000        0.0   \n",
       "4 2025-07-01 14:17:30    1751379459673    0.0  19939.100000        0.0   \n",
       "\n",
       "            VIN  gasLevel  \n",
       "0  MASKEDVIN013      31.0  \n",
       "1  MASKEDVIN002      19.0  \n",
       "2  MASKEDVIN002      19.0  \n",
       "3  MASKEDVIN012      59.0  \n",
       "4  MASKEDVIN012      59.0  "
      ]
     },
     "execution_count": 11,
     "metadata": {},
     "output_type": "execute_result"
    }
   ],
   "source": [
    "new_df.head()"
   ]
  },
  {
   "cell_type": "code",
   "execution_count": 10,
   "id": "7805cee3",
   "metadata": {},
   "outputs": [
    {
     "data": {
      "text/plain": [
       "(514992, 7)"
      ]
     },
     "execution_count": 10,
     "metadata": {},
     "output_type": "execute_result"
    }
   ],
   "source": [
    "new_df.shape"
   ]
  }
 ],
 "metadata": {
  "kernelspec": {
   "display_name": "Python 3",
   "language": "python",
   "name": "python3"
  },
  "language_info": {
   "codemirror_mode": {
    "name": "ipython",
    "version": 3
   },
   "file_extension": ".py",
   "mimetype": "text/x-python",
   "name": "python",
   "nbconvert_exporter": "python",
   "pygments_lexer": "ipython3",
   "version": "3.12.8"
  }
 },
 "nbformat": 4,
 "nbformat_minor": 5
}
